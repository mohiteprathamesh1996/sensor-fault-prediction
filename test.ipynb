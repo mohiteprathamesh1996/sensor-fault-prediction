{
 "cells": [
  {
   "cell_type": "code",
   "execution_count": 1,
   "metadata": {},
   "outputs": [],
   "source": [
    "import pandas as pd\n",
    "import requests"
   ]
  },
  {
   "cell_type": "code",
   "execution_count": 2,
   "metadata": {},
   "outputs": [
    {
     "name": "stdout",
     "output_type": "stream",
     "text": [
      "Request failed with status code: 405\n"
     ]
    }
   ],
   "source": [
    "# Assuming input_df is your Pandas DataFrame\n",
    "input_df = pd.read_csv(\"/Users/prathameshmohite/Downloads/aps_failure_training_set1.csv\")\n",
    "\n",
    "# Convert DataFrame to JSON\n",
    "input_json = input_df.to_dict(orient='records')\n",
    "\n",
    "api_endpoint = 'http://0.0.0.0:8080/docs#/default/predict_route_predict_get'\n",
    "\n",
    "# Send POST request with JSON data\n",
    "response = requests.post(api_endpoint, json=input_json)\n",
    "\n",
    "if response.status_code == 200:\n",
    "    result = response.json()\n",
    "    print(\"Prediction Result:\", result)\n",
    "else:\n",
    "    print(\"Request failed with status code:\", response.status_code)"
   ]
  },
  {
   "cell_type": "code",
   "execution_count": null,
   "metadata": {},
   "outputs": [],
   "source": []
  },
  {
   "cell_type": "code",
   "execution_count": null,
   "metadata": {},
   "outputs": [],
   "source": []
  },
  {
   "cell_type": "code",
   "execution_count": null,
   "metadata": {},
   "outputs": [],
   "source": []
  }
 ],
 "metadata": {
  "kernelspec": {
   "display_name": "Python 3",
   "language": "python",
   "name": "python3"
  },
  "language_info": {
   "codemirror_mode": {
    "name": "ipython",
    "version": 3
   },
   "file_extension": ".py",
   "mimetype": "text/x-python",
   "name": "python",
   "nbconvert_exporter": "python",
   "pygments_lexer": "ipython3",
   "version": "3.8.18"
  }
 },
 "nbformat": 4,
 "nbformat_minor": 2
}
